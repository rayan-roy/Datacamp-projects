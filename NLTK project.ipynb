{
 "cells": [
  {
   "cell_type": "markdown",
   "metadata": {
    "dc": {
     "key": "3"
    },
    "deletable": false,
    "editable": false,
    "run_control": {
     "frozen": true
    },
    "tags": [
     "context"
    ]
   },
   "source": [
    "## # Introduction\n",
    "<p><img src=\"https://assets.datacamp.com/production/project_1010/img/book_cover.jpg\" alt=\"The book cover of Peter and Wendy\" style=\"width:183;height:253px;\"></p>\n",
    "<h3 id=\"flyawaywithpeterpan\">Fly away with Peter Pan!</h3>\n",
    "<p>Peter Pan has been the companion of many children, and went a long way, starting as a Christmas play and ending up as a Disney classic. Did you know that although the play was titled \"Peter Pan, Or The Boy Who Wouldn't Grow Up\", J. M. Barrie's novel was actually titled \"Peter and Wendy\"? </p>\n",
    "<p>You're going to explore and analyze Peter Pan's text to answer the question in the instruction pane below. You are working with the text version available here at <a href=\"https://www.gutenberg.org/files/16/16-h/16-h.htm\">Project Gutenberg</a>. Feel free to add as many cells as necessary. Finally, remember that you are only tested on your answer, not on the methods you use to arrive at the answer!</p>\n",
    "<p><strong>Note:</strong> If you haven't completed a DataCamp project before you should check out the <a href=\"https://projects.datacamp.com/projects/33\">Intro to Projects</a> first to learn about the interface. <a href=\"https://www.datacamp.com/courses/intermediate-importing-data-in-python\">Intermediate Importing Data in Python</a> and <a href=\"https://www.datacamp.com/courses/introduction-to-natural-language-processing-in-python\">Introduction to Natural Language Processing in Python</a> teach the skills required to complete this project. Should you decide to use them, English stopwords have been downloaded from <code>nltk</code> and are available for you in your environment.</p>"
   ]
  },
  {
   "cell_type": "markdown",
   "metadata": {
    "collapsed": true,
    "dc": {
     "key": "3"
    },
    "tags": [
     "sample_code"
    ]
   },
   "source": [
    "**We want to find the 10 most meaningful words, and which ones are the character names**\n",
    "\n"
   ]
  },
  {
   "cell_type": "code",
   "execution_count": 4,
   "metadata": {
    "collapsed": true,
    "dc": {
     "key": "3"
    }
   },
   "outputs": [],
   "source": [
    "import requests \n",
    "import nltk\n",
    "from bs4 import BeautifulSoup\n",
    "from collections import Counter # This will be used for storing values in dictionary values\n"
   ]
  },
  {
   "cell_type": "code",
   "execution_count": 5,
   "metadata": {
    "dc": {
     "key": "3"
    }
   },
   "outputs": [
    {
     "name": "stdout",
     "output_type": "stream",
     "text": [
      "<!DOCTYPE html PUBLIC \"-//W3C//DTD XHTML 1.0 Strict//EN\"\r\n",
      "\"http://www.w3.org/TR/xhtml1/DTD/xhtml1-strict.dtd\">\r\n",
      "<html xmlns=\"http://www.w3.org/1999/xhtml\" xml:lang=\"en\" lang=\"en\">\r\n",
      "<head>\r\n",
      "<meta http-equiv=\"Content-Type\" content=\"text/html;charset=utf-8\" />\r\n",
      "<meta http-equiv=\"Content-Style-Type\" content=\"text/css\" />\r\n",
      "<title>The Project Gutenberg eBook of Peter Pan, by James M. Barrie</title>\r\n",
      "\r\n",
      "<style type=\"text/css\">\r\n",
      "\r\n",
      "body { margin-left: 20%;\r\n",
      "       margin-right: 20%;\r\n",
      "       text-align: justify; }\r\n",
      "\r\n",
      "h1, h2, h3, h4, h5 {text-align: center; font-style: normal; font-weight:\r\n",
      "normal; line-height: 1.5; margin-top: .5em; margin-bottom: .5em;}\r\n",
      "\r\n",
      "h1 {font-size: 300%;\r\n",
      "    margin-top: 0.6em;\r\n",
      "    margin-bottom: 0.6em;\r\n",
      "    letter-spacing: 0.12em;\r\n",
      "    word-spacing: 0.2em;\r\n",
      "    text-indent: 0em;}\r\n",
      "h2 {font-size: 150%; margin-top: 2em; margin-bottom: 1em;}\r\n",
      "h3 {font-size: 130%; margin-top: 1em;}\r\n",
      "h4 {font-size: 120%;}\r\n",
      "h5 {font-size: 110%;}\r\n",
      "\r\n",
      ".no-break {page-break-before: avoid;} /* for epubs */\r\n",
      "\r\n",
      "div.chapter {page-break-before: always; margin-top: 4em;}\r\n",
      "\r\n",
      "hr {width: 80%; margin-top: 2em; margin-bottom: 2em;}\r\n",
      "\r\n",
      "p {text-indent: 1em;\r\n",
      "   margin-top: 0.25em;\r\n",
      "   margin-bottom: 0.25em; }\r\n",
      "\r\n",
      "p.poem {text-indent: 0%;\r\n",
      "        margin-left: 10%;\r\n",
      "        font-size: 90%;\r\n",
      "        margin-top: 1em;\r\n",
      "        margin-bottom: 1em; }\r\n",
      "\r\n",
      "p.letter {text-indent: 0%;\r\n",
      "          margin-left: 10%;\r\n",
      "          margin-right: 10%;\r\n",
      "          margin-top: 1em;\r\n",
      "          margin-bottom: 1em; }\r\n",
      "\r\n",
      "p.center  {text-align: center;\r\n",
      "           text-indent: 0em;\r\n",
      "           margin-top: 1em;\r\n",
      "           margin-bottom: 1em; }\r\n",
      "\r\n",
      "a:link {color:blue; text-decoration:none}\r\n",
      "a:visited {color:blue; text-decoration:none}\r\n",
      "a:hover {color:red}\r\n",
      "\r\n",
      "</style>\r\n",
      "\r\n",
      "</head>\r\n",
      "\r\n",
      "<body>\r\n",
      "\r\n",
      "<div style='text-align:center; font-size:1.2em; font-weight:bold;'>The Project Gutenberg eBook of Peter Pan, by James M. Barrie</div>\r\n",
      "<div style='display:block; margin:1em 0'>\r\n",
      "This eBook is for the use of anyone anywhere in the United States and\r\n",
      "most other parts of the world at no cost and with almost no restrictions\r\n",
      "whatsoever. You may copy it, give it away or re-use it under the terms\r\n",
      "of the Project Gutenberg License included with this eBook or online\r\n",
      "at <a href=\"https://www.gutenberg.org\">www.gutenberg.org</a>. If you\r\n",
      "are not located in the United States, you will have to check the laws of the\r\n",
      "country where you are located before using this eBook.\r\n",
      "</div>\r\n",
      "<div style='display:block; margin-top:1em; margin-bottom:1em; margin-left:2em; text-indent:-2em'>Title: Peter Pan<br />\r\n",
      "Peter Pan and Wendy</div>\r\n",
      "<div style='display:block; margin-top:1em; margin-bottom:1em; margin-left:2em; text-indent:-2em'>Author: James M. Barrie</div>\r\n",
      "<div style='display:block;margin:1em 0'>Release Date: July, 1991 [eBook #16]<br />\r\n",
      "[Most recently updated: February 15, 2021]</div>\r\n",
      "<div style='display:block;margin:1em 0'>Language: English</div>\r\n",
      "<div style='display:block;margin:1em 0'>Character set encoding: UTF-8</div>\r\n",
      "<div s\n"
     ]
    }
   ],
   "source": [
    "# We will get the book from Project Gutenberg, which has around 60k books\n",
    "# we will copy link address\n",
    "r = requests.get('https://www.gutenberg.org/files/16/16-h/16-h.htm')\n",
    "r.status_code \n",
    "r.url  # will give URL\n",
    "r.encoding = \"utf-8\" #if you go to the peter pan webpage the encoding is 8\n",
    "html = r.text\n",
    "\n",
    "#Lets see the HTML document\n",
    "print(html[:3000])"
   ]
  },
  {
   "cell_type": "code",
   "execution_count": 6,
   "metadata": {
    "dc": {
     "key": "3"
    }
   },
   "outputs": [
    {
     "name": "stdout",
     "output_type": "stream",
     "text": [
      "\n",
      "\n",
      "\n",
      "\n",
      "\n",
      "The Project Gutenberg eBook of Peter Pan, by James M. Barrie\n",
      "\r\n",
      "\r\n",
      "body { margin-left: 20%;\r\n",
      "       margin-right: 20%;\r\n",
      "       text-align: justify; }\r\n",
      "\r\n",
      "h1, h2, h3, h4, h5 {text-align: center; font-style: normal; font-weight:\r\n",
      "normal; line-height: 1.5; margin-top: .5em; margin-bottom: .5em;}\r\n",
      "\r\n",
      "h1 {font-size: 300%;\r\n",
      "    margin-top: 0.6em;\r\n",
      "    margin-bottom: 0.6em;\r\n",
      "    letter-spacing: 0.12em;\r\n",
      "    word-spacing: 0.2em;\r\n",
      "    text-indent: 0em;}\r\n",
      "h2 {font-size: 150%; margin-top: 2em; margin-bottom: 1em;}\r\n",
      "h3 {font-size: 130%; margin-top: 1em;}\r\n",
      "h4 {font-size: 120%;}\r\n",
      "h5 {font-size: 110%;}\r\n",
      "\r\n",
      ".no-break {page-break-before: avoid;} /* for epubs */\r\n",
      "\r\n",
      "div.chapter {page-break-before: always; margin-top: 4em;}\r\n",
      "\r\n",
      "hr {width: 80%; margin-top: 2em; margin-bottom: 2em;}\r\n",
      "\r\n",
      "p {text-indent: 1em;\r\n",
      "   margin-top: 0.25em;\r\n",
      "   margin-bottom: 0.25em; }\r\n",
      "\r\n",
      "p.poem {text-indent: 0%;\r\n",
      "        margin-left: 10%;\r\n",
      "        font-size: 90%;\r\n",
      "        margin-top: 1em;\r\n",
      "        margin-bottom: 1em; }\r\n",
      "\r\n",
      "p.letter {text-indent: 0%;\r\n",
      "          margin-left: 10%;\r\n",
      "          margin-right: 10%;\r\n",
      "          margin-top: 1em;\r\n",
      "          margin-bottom: 1em; }\r\n",
      "\r\n",
      "p.center  {text-align: center;\r\n",
      "           text-indent: 0em;\r\n",
      "           margin-top: 1em;\r\n",
      "           margin-bottom: 1em; }\r\n",
      "\r\n",
      "a:link {color:blue; text-decoration:none}\r\n",
      "a:visited {color:blue; text-decoration:none}\r\n",
      "a:hover {color:red}\r\n",
      "\r\n",
      "\n",
      "\n",
      "\n",
      "The Project Gutenberg eBook of Peter Pan, by James M. Barrie\n",
      "\r\n",
      "This eBook is for the use of anyone anywhere in the United States and\r\n",
      "most other parts of the world at no cost and with almost no restrictions\r\n",
      "whatsoever. You may copy it, give it away or re-use it under the terms\r\n",
      "of the Project Gutenberg License included with this eBook or online\r\n",
      "at www.gutenberg.org. If you\r\n",
      "are not located in the United States, you will have to check the laws of the\r\n",
      "country where you are located before using this eBook.\r\n",
      "\n",
      "Title: Peter Pan\r\n",
      "Peter Pan and Wendy\n",
      "Author: James M. Barrie\n",
      "Release Date: July, 1991 [eBook #16]\r\n",
      "[Most \n"
     ]
    }
   ],
   "source": [
    "#beautiful soup converts HTML code into unique code\n",
    "soup = BeautifulSoup(html)\n",
    "text = soup.text\n",
    "print(text[0:2000])\n",
    "# We can see from the earlier line code, that soup converts into a readable format\n"
   ]
  },
  {
   "cell_type": "markdown",
   "metadata": {
    "dc": {
     "key": "3"
    }
   },
   "source": [
    "Tokenization is the process of seperating words into small pieces like characters, subwords. And these individual characters are called tokens"
   ]
  },
  {
   "cell_type": "code",
   "execution_count": 7,
   "metadata": {
    "dc": {
     "key": "3"
    }
   },
   "outputs": [
    {
     "name": "stdout",
     "output_type": "stream",
     "text": [
      "['The', 'Project', 'Gutenberg', 'eBook', 'of', 'Peter', 'Pan', 'by', 'James', 'M']\n"
     ]
    }
   ],
   "source": [
    "tokenizer = nltk.tokenize.RegexpTokenizer(\"\\w+\")\n",
    "# This will get you the words\n",
    "## Try to understand what does the w+ part do\n",
    "tokens = tokenizer.tokenize(text)\n",
    "print(tokens[:10])"
   ]
  },
  {
   "cell_type": "markdown",
   "metadata": {
    "dc": {
     "key": "3"
    }
   },
   "source": [
    "We need to lowercase everything because Peter capitalized, and peter in small is same"
   ]
  },
  {
   "cell_type": "code",
   "execution_count": 8,
   "metadata": {
    "dc": {
     "key": "3"
    }
   },
   "outputs": [
    {
     "name": "stdout",
     "output_type": "stream",
     "text": [
      "['the', 'project', 'gutenberg', 'ebook', 'of', 'peter', 'pan', 'by', 'james', 'm']\n"
     ]
    }
   ],
   "source": [
    "words = [token.lower() for token in tokens]\n",
    "print(words[:10]) # everything in small"
   ]
  },
  {
   "cell_type": "code",
   "execution_count": 9,
   "metadata": {
    "dc": {
     "key": "3"
    }
   },
   "outputs": [
    {
     "name": "stdout",
     "output_type": "stream",
     "text": [
      "[nltk_data] Downloading package stopwords to /home/repl/nltk_data...\n",
      "[nltk_data]   Package stopwords is already up-to-date!\n"
     ]
    },
    {
     "data": {
      "text/plain": [
       "True"
      ]
     },
     "execution_count": 9,
     "metadata": {},
     "output_type": "execute_result"
    }
   ],
   "source": [
    "# We want to remove the meaningless words like the, an, a, by and we call this stopwords\n",
    "nltk.download('stopwords')"
   ]
  },
  {
   "cell_type": "code",
   "execution_count": 10,
   "metadata": {
    "dc": {
     "key": "3"
    }
   },
   "outputs": [
    {
     "name": "stdout",
     "output_type": "stream",
     "text": [
      "['i', 'me', 'my', 'myself', 'we', 'our', 'ours', 'ourselves', 'you', \"you're\", \"you've\", \"you'll\", \"you'd\", 'your', 'yours', 'yourself', 'yourselves', 'he', 'him', 'his', 'himself', 'she', \"she's\", 'her', 'hers', 'herself', 'it', \"it's\", 'its', 'itself', 'they', 'them', 'their', 'theirs', 'themselves', 'what', 'which', 'who', 'whom', 'this', 'that', \"that'll\", 'these', 'those', 'am', 'is', 'are', 'was', 'were', 'be']\n"
     ]
    }
   ],
   "source": [
    "stop_words = nltk.corpus.stopwords.words(\"english\")\n",
    "print(stop_words[:50])\n",
    "# This gives a list of stopwords (or commonly used words) in this dataset"
   ]
  },
  {
   "cell_type": "code",
   "execution_count": 11,
   "metadata": {
    "dc": {
     "key": "3"
    }
   },
   "outputs": [
    {
     "name": "stdout",
     "output_type": "stream",
     "text": [
      "['project', 'gutenberg', 'ebook', 'peter', 'pan', 'james', 'barrie', 'body', 'margin', 'left']\n"
     ]
    }
   ],
   "source": [
    "# WE will remove the stopwords\n",
    "words_clean = [word for word in words if word not in stop_words] # no idea what this means\n",
    "print(words_clean[:10])\n",
    "# Compare this to \"words\", you will see by, the is removed\n"
   ]
  },
  {
   "cell_type": "code",
   "execution_count": 12,
   "metadata": {
    "dc": {
     "key": "3"
    }
   },
   "outputs": [
    {
     "name": "stdout",
     "output_type": "stream",
     "text": [
      "[('peter', 409), ('wendy', 362), ('said', 358), ('would', 217), ('one', 212), ('hook', 174), ('could', 142), ('cried', 136), ('john', 133), ('time', 126), ('darling', 118), ('see', 111), ('michael', 110), ('little', 104), ('mother', 102), ('boys', 101), ('gutenberg', 99), ('children', 98), ('like', 94), ('know', 93)]\n"
     ]
    }
   ],
   "source": [
    "count = Counter(words_clean)\n",
    "top_twenty = count.most_common(20) # This will get top 20 words\n",
    "print(top_twenty) # We see peter is the most common word, "
   ]
  },
  {
   "cell_type": "code",
   "execution_count": 13,
   "metadata": {
    "collapsed": true,
    "dc": {
     "key": "3"
    }
   },
   "outputs": [],
   "source": [
    "protagonists = [\"peter\", \"wendy\", \"hook\", \"john\"]"
   ]
  },
  {
   "cell_type": "code",
   "execution_count": 14,
   "metadata": {
    "collapsed": true,
    "dc": {
     "key": "3"
    }
   },
   "outputs": [],
   "source": [
    "# Now remember we had the HTML content on the top when we got the words, we want to remove that"
   ]
  },
  {
   "cell_type": "code",
   "execution_count": 15,
   "metadata": {
    "dc": {
     "key": "3"
    }
   },
   "outputs": [
    {
     "name": "stdout",
     "output_type": "stream",
     "text": [
      "0%;\r\n",
      "    margin-top: 0.6em;\r\n",
      "    margin-bottom: 0.6em;\r\n",
      "    letter-spacing: 0.12em;\r\n",
      "    word-spacing: 0.2em;\r\n",
      "    text-indent: 0em;}\r\n",
      "h2 {font-size: 150%; margin-top: 2em; margin-bottom: 1em;}\r\n",
      "h3 {font-size: 130%; margin-top: 1em;}\r\n",
      "h4 {font-size: 120%;}\r\n",
      "h5 {font-size: 110%;}\r\n",
      "\r\n",
      ".no-break {page-break-before: avoid;} /* for epubs */\r\n",
      "\r\n",
      "div.chapter {page-break-before: always; margin-top: 4em;}\r\n",
      "\r\n",
      "hr {width: 80%; margin-top: 2em; margin-bottom: 2em;}\r\n",
      "\r\n",
      "p {text-indent: 1em;\r\n",
      "   margin-top: 0.25em;\r\n",
      "   margin-bottom: 0.25em; }\r\n",
      "\r\n",
      "p.poem {text-indent: 0%;\r\n",
      "        margin-left: 10%;\r\n",
      "        font-size: 90%;\r\n",
      "        margin-top: 1em;\r\n",
      "        margin-bottom: 1em; }\r\n",
      "\r\n",
      "p.letter {text-indent: 0%;\r\n",
      "          margin-left: 10%;\r\n",
      "          margin-right: 10%;\r\n",
      "          margin-top: 1em;\r\n",
      "          margin-bottom: 1em; }\r\n",
      "\r\n",
      "p.center  {text-align: center;\r\n",
      "           text-indent: 0em;\r\n",
      "           margin-top: 1em;\r\n",
      "           margin-bottom: 1em; }\r\n",
      "\r\n",
      "a:link {color:blue; text-decoration:non\n"
     ]
    }
   ],
   "source": [
    "trimmed_text = text[316:]\n",
    "print(trimmed_text[:988])\n",
    "# This is the table of content text[2580:] will give chapter 1\n",
    "\n",
    "#We may want to this ahead of time before we do the parsing of the words"
   ]
  },
  {
   "cell_type": "code",
   "execution_count": 18,
   "metadata": {
    "dc": {
     "key": "3"
    }
   },
   "outputs": [
    {
     "data": {
      "text/plain": [
       "Text(0.5, 1.0, \"Peter Pan's Most common words\")"
      ]
     },
     "execution_count": 18,
     "metadata": {},
     "output_type": "execute_result"
    },
    {
     "data": {
      "image/png": "[encoded data removed]",
      "text/plain": [
       "<Figure size 1080x504 with 1 Axes>"
      ]
     },
     "metadata": {},
     "output_type": "display_data"
    }
   ],
   "source": [
    "import matplotlib.pyplot as plt\n",
    "import seaborn as sns\n",
    "import pandas as pd\n",
    "\n",
    "df = pd.DataFrame(top_twenty, columns = [\"words\", \"occurences\"])\n",
    "# we did this b/c remember the top twenty is like a dictionary with 2 items\n",
    "sns.set_style(\"darkgrid\")\n",
    "plt.figure(figsize = (15,7))\n",
    "sns.barplot(x = \"words\", y = \"occurences\", data = df, saturation = 0.9).set_title(\"Peter Pan's Most common words\")\n"
   ]
  },
  {
   "cell_type": "code",
   "execution_count": null,
   "metadata": {
    "collapsed": true,
    "dc": {
     "key": "3"
    }
   },
   "outputs": [],
   "source": []
  },
  {
   "cell_type": "code",
   "execution_count": null,
   "metadata": {
    "collapsed": true,
    "dc": {
     "key": "3"
    }
   },
   "outputs": [],
   "source": []
  },
  {
   "cell_type": "code",
   "execution_count": null,
   "metadata": {
    "collapsed": true,
    "dc": {
     "key": "3"
    }
   },
   "outputs": [],
   "source": []
  },
  {
   "cell_type": "code",
   "execution_count": null,
   "metadata": {
    "collapsed": true,
    "dc": {
     "key": "3"
    }
   },
   "outputs": [],
   "source": []
  }
 ],
 "metadata": {
  "kernelspec": {
   "display_name": "Python 3",
   "language": "python",
   "name": "python3"
  },
  "language_info": {
   "codemirror_mode": {
    "name": "ipython",
    "version": 3
   },
   "file_extension": ".py",
   "mimetype": "text/x-python",
   "name": "python",
   "nbconvert_exporter": "python",
   "pygments_lexer": "ipython3",
   "version": "3.7.6"
  }
 },
 "nbformat": 4,
 "nbformat_minor": 2
}
